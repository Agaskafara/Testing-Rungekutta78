{
 "cells": [
  {
   "cell_type": "code",
   "execution_count": 2,
   "metadata": {},
   "outputs": [
    {
     "data": {
      "text/plain": [
       "(2*v + x - (mu - x)*(mu - 1)/((mu - x)^2 + y^2 + z^2)^(3/2) + (mu - x - 1)*mu/((mu - x - 1)^2 + y^2 + z^2)^(3/2), -2*u + y + (mu - 1)*y/((mu - x)^2 + y^2 + z^2)^(3/2) - mu*y/((mu - x - 1)^2 + y^2 + z^2)^(3/2), (mu - 1)*z/((mu - x)^2 + y^2 + z^2)^(3/2) - mu*z/((mu - x - 1)^2 + y^2 + z^2)^(3/2))"
      ]
     },
     "execution_count": 2,
     "metadata": {},
     "output_type": "execute_result"
    }
   ],
   "source": [
    "# Compute rtbp function\n",
    "\n",
    "var('x y z u v w t mu')\n",
    "p1 = sqrt((x - mu)^2 + y^2 + z^2)\n",
    "p2 = sqrt((x - mu + 1)^2 + y^2 + z^2)\n",
    "omega = (x^2 + y^2)/2 + (1 - mu)/p1 + mu/p2 - mu*(1 - mu)/2\n",
    "a = 2*vector([v, -u, 0]) + vector([diff(omega, x), diff(omega, y), diff(omega, z)])\n",
    "a"
   ]
  },
  {
   "cell_type": "code",
   "execution_count": 3,
   "metadata": {},
   "outputs": [
    {
     "data": {
      "text/plain": [
       "(-3*(mu - x)^2*(mu - 1)/((mu - x)^2 + y^2 + z^2)^(5/2) + 3*(mu - x - 1)^2*mu/((mu - x - 1)^2 + y^2 + z^2)^(5/2) + (mu - 1)/((mu - x)^2 + y^2 + z^2)^(3/2) - mu/((mu - x - 1)^2 + y^2 + z^2)^(3/2) + 1, 3*(mu - x)*(mu - 1)*y/((mu - x)^2 + y^2 + z^2)^(5/2) - 3*(mu - x - 1)*mu*y/((mu - x - 1)^2 + y^2 + z^2)^(5/2), 3*(mu - x)*(mu - 1)*z/((mu - x)^2 + y^2 + z^2)^(5/2) - 3*(mu - x - 1)*mu*z/((mu - x - 1)^2 + y^2 + z^2)^(5/2))"
      ]
     },
     "execution_count": 3,
     "metadata": {},
     "output_type": "execute_result"
    }
   ],
   "source": [
    "# Compute its differential\n",
    "diff(a, x)"
   ]
  },
  {
   "cell_type": "code",
   "execution_count": 4,
   "metadata": {},
   "outputs": [
    {
     "data": {
      "text/plain": [
       "(3*(mu - x)*(mu - 1)*y/((mu - x)^2 + y^2 + z^2)^(5/2) - 3*(mu - x - 1)*mu*y/((mu - x - 1)^2 + y^2 + z^2)^(5/2), -3*(mu - 1)*y^2/((mu - x)^2 + y^2 + z^2)^(5/2) + 3*mu*y^2/((mu - x - 1)^2 + y^2 + z^2)^(5/2) + (mu - 1)/((mu - x)^2 + y^2 + z^2)^(3/2) - mu/((mu - x - 1)^2 + y^2 + z^2)^(3/2) + 1, -3*(mu - 1)*y*z/((mu - x)^2 + y^2 + z^2)^(5/2) + 3*mu*y*z/((mu - x - 1)^2 + y^2 + z^2)^(5/2))"
      ]
     },
     "execution_count": 4,
     "metadata": {},
     "output_type": "execute_result"
    }
   ],
   "source": [
    "diff(a, y)"
   ]
  },
  {
   "cell_type": "code",
   "execution_count": 5,
   "metadata": {},
   "outputs": [
    {
     "data": {
      "text/plain": [
       "(3*(mu - x)*(mu - 1)*z/((mu - x)^2 + y^2 + z^2)^(5/2) - 3*(mu - x - 1)*mu*z/((mu - x - 1)^2 + y^2 + z^2)^(5/2), -3*(mu - 1)*y*z/((mu - x)^2 + y^2 + z^2)^(5/2) + 3*mu*y*z/((mu - x - 1)^2 + y^2 + z^2)^(5/2), -3*(mu - 1)*z^2/((mu - x)^2 + y^2 + z^2)^(5/2) + 3*mu*z^2/((mu - x - 1)^2 + y^2 + z^2)^(5/2) + (mu - 1)/((mu - x)^2 + y^2 + z^2)^(3/2) - mu/((mu - x - 1)^2 + y^2 + z^2)^(3/2))"
      ]
     },
     "execution_count": 5,
     "metadata": {},
     "output_type": "execute_result"
    }
   ],
   "source": [
    "diff(a, z)"
   ]
  },
  {
   "cell_type": "code",
   "execution_count": 6,
   "metadata": {},
   "outputs": [
    {
     "data": {
      "text/plain": [
       "(0, -2, 0)"
      ]
     },
     "execution_count": 6,
     "metadata": {},
     "output_type": "execute_result"
    }
   ],
   "source": [
    "diff(a, u)"
   ]
  },
  {
   "cell_type": "code",
   "execution_count": 7,
   "metadata": {},
   "outputs": [
    {
     "data": {
      "text/plain": [
       "(2, 0, 0)"
      ]
     },
     "execution_count": 7,
     "metadata": {},
     "output_type": "execute_result"
    }
   ],
   "source": [
    "diff(a, v)"
   ]
  },
  {
   "cell_type": "code",
   "execution_count": 8,
   "metadata": {},
   "outputs": [
    {
     "data": {
      "text/plain": [
       "(0, 0, 0)"
      ]
     },
     "execution_count": 8,
     "metadata": {},
     "output_type": "execute_result"
    }
   ],
   "source": [
    "diff(a, w)"
   ]
  },
  {
   "cell_type": "code",
   "execution_count": null,
   "metadata": {},
   "outputs": [],
   "source": []
  }
 ],
 "metadata": {
  "kernelspec": {
   "display_name": "SageMath 9.1",
   "language": "sage",
   "name": "sagemath"
  },
  "language_info": {
   "codemirror_mode": {
    "name": "ipython",
    "version": 3
   },
   "file_extension": ".py",
   "mimetype": "text/x-python",
   "name": "python",
   "nbconvert_exporter": "python",
   "pygments_lexer": "ipython3",
   "version": "3.7.6"
  }
 },
 "nbformat": 4,
 "nbformat_minor": 2
}
