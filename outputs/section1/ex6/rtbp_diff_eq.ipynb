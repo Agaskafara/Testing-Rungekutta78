{
 "cells": [
  {
   "cell_type": "code",
   "execution_count": 11,
   "metadata": {},
   "outputs": [
    {
     "data": {
      "text/plain": [
       "(2*v + x - (mu - x)*(mu - 1)/((mu - x)^2 + y^2 + z^2)^(3/2) + (mu - x - 1)*mu/((mu - x - 1)^2 + y^2 + z^2)^(3/2), -2*u + y + (mu - 1)*y/((mu - x)^2 + y^2 + z^2)^(3/2) - mu*y/((mu - x - 1)^2 + y^2 + z^2)^(3/2), (mu - 1)*z/((mu - x)^2 + y^2 + z^2)^(3/2) - mu*z/((mu - x - 1)^2 + y^2 + z^2)^(3/2))"
      ]
     },
     "execution_count": 11,
     "metadata": {},
     "output_type": "execute_result"
    }
   ],
   "source": [
    "var('x y z u v w t mu')\n",
    "p1 = sqrt((x - mu)^2 + y^2 + z^2)\n",
    "p2 = sqrt((x - mu + 1)^2 + y^2 + z^2)\n",
    "omega = (x^2 + y^2)/2 + (1 - mu)/p1 + mu/p2 - mu*(1 - mu)/2\n",
    "a = 2*vector([v, -u, 0]) + vector([diff(omega, x), diff(omega, y), diff(omega, z)])\n",
    "a\n"
   ]
  },
  {
   "cell_type": "code",
   "execution_count": null,
   "metadata": {},
   "outputs": [],
   "source": []
  }
 ],
 "metadata": {
  "kernelspec": {
   "display_name": "SageMath 9.1",
   "language": "sage",
   "name": "sagemath"
  },
  "language_info": {
   "codemirror_mode": {
    "name": "ipython",
    "version": 3
   },
   "file_extension": ".py",
   "mimetype": "text/x-python",
   "name": "python",
   "nbconvert_exporter": "python",
   "pygments_lexer": "ipython3",
   "version": "3.7.6"
  }
 },
 "nbformat": 4,
 "nbformat_minor": 2
}
